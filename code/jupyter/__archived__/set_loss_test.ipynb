{
 "cells": [
  {
   "cell_type": "code",
   "execution_count": 5,
   "metadata": {},
   "outputs": [
    {
     "name": "stdout",
     "output_type": "stream",
     "text": [
      "/ibex/user/slimhy/PADS/code\n"
     ]
    },
    {
     "data": {
      "text/plain": [
       "tensor(5.)"
      ]
     },
     "execution_count": 5,
     "metadata": {},
     "output_type": "execute_result"
    }
   ],
   "source": [
    "%cd /ibex/user/slimhy/PADS/code\n",
    "import torch\n",
    "from torch.nn import functional as F\n",
    "from torch_linear_assignment import batch_linear_assignment\n",
    "\n",
    "\n",
    "def debug_rec_loss(x, x_rec, use_loop=False):\n",
    "    \"\"\"\n",
    "    Call the loss function.\n",
    "    \"\"\"\n",
    "    B, N, D = (\n",
    "        x.shape\n",
    "    )  # B: batch size, D: latent dimension (512), N: number of vectors (8)\n",
    "\n",
    "    # Compute the cost matrix using cdist\n",
    "    cost_matrix = torch.cdist(x, x_rec, p=2)\n",
    "\n",
    "    # Compute the linear assignment\n",
    "    assignment = batch_linear_assignment(cost_matrix)\n",
    "    \n",
    "    # Compute the loss\n",
    "    total_loss = 0\n",
    "    if use_loop:\n",
    "        x_rec_matched = []\n",
    "        for b in range(B):\n",
    "            x_rec_matched += [x_rec[b, assignment[b]]]\n",
    "        x_rec_matched = torch.stack(x_rec_matched)\n",
    "    else:\n",
    "        x_rec_matched = x_rec[torch.arange(B).unsqueeze(1), assignment]\n",
    "        # total_loss = loss.mean() * 2.\n",
    "\n",
    "        # for b in range(B):\n",
    "        #     print(x[b])\n",
    "        #     print(x_rec_matched[b])\n",
    "        #     print('---')\n",
    "\n",
    "    total_loss = F.mse_loss(x, x_rec_matched)\n",
    "\n",
    "    return total_loss\n",
    "\n",
    "\n",
    "# Define two sets of vectors\n",
    "set_A = torch.tensor([\n",
    "    [5, 5, 5, 5],\n",
    "    [2, 2, 2, 2],\n",
    "    [3, 3, 3, 3],\n",
    "]).type(torch.float32).unsqueeze(0)\n",
    "\n",
    "set_B = torch.tensor([\n",
    "    [4, 4, 4, 4],\n",
    "    [5, 5, 5, 5],\n",
    "    [6, 6, 6, 6],\n",
    "]).type(torch.float32).unsqueeze(0)\n",
    "\n",
    "set_C = torch.tensor([\n",
    "    [4, 4, 4, 4],\n",
    "    [5, 5, 5, 5],\n",
    "    [6, 6, 6, 6],\n",
    "]).type(torch.float32).unsqueeze(0)\n",
    "\n",
    "set_D = torch.tensor([\n",
    "    [1, 1, 1, 1],\n",
    "    [6, 6, 6, 6],\n",
    "    [3, 3, 3, 3],\n",
    "]).type(torch.float32).unsqueeze(0)\n",
    "\n",
    "x_a = torch.cat([set_A, set_B, set_A, set_B], dim=0)\n",
    "x_b = torch.cat([set_C, set_D, set_C, set_D], dim=0)\n",
    "\n",
    "debug_rec_loss(x_a, x_b, use_loop=True)"
   ]
  },
  {
   "cell_type": "code",
   "execution_count": 3,
   "metadata": {},
   "outputs": [
    {
     "name": "stdout",
     "output_type": "stream",
     "text": [
      "All 10 tests passed successfully!\n"
     ]
    }
   ],
   "source": [
    "import numpy as np\n",
    "\n",
    "def test_debug_rec_loss(debug_rec_loss, num_tests=10, rtol=1e-5, atol=1e-8):\n",
    "    for _ in range(num_tests):\n",
    "        # Generate random dimensions\n",
    "        B = np.random.randint(1, 5)  # Batch size\n",
    "        N = np.random.randint(3, 10)  # Number of vectors\n",
    "        D = np.random.randint(2, 8)  # Latent dimension\n",
    "\n",
    "        # Generate random tensors\n",
    "        x_a = torch.rand(B, N, D)\n",
    "        x_b = torch.rand(B, N, D)\n",
    "\n",
    "        # Compute loss with use_loop=True\n",
    "        loss_with_loop = debug_rec_loss(x_a, x_b, use_loop=True)\n",
    "\n",
    "        # Compute loss with use_loop=False\n",
    "        loss_without_loop = debug_rec_loss(x_a, x_b, use_loop=False)\n",
    "\n",
    "        # Check if the results are close\n",
    "        assert torch.isclose(loss_with_loop, loss_without_loop, rtol=rtol, atol=atol), \\\n",
    "            f\"Test failed: loss_with_loop ({loss_with_loop}) and loss_without_loop ({loss_without_loop}) are not close enough\"\n",
    "\n",
    "    print(f\"All {num_tests} tests passed successfully!\")\n",
    "\n",
    "# Run the test\n",
    "test_debug_rec_loss(debug_rec_loss)\n"
   ]
  },
  {
   "cell_type": "code",
   "execution_count": null,
   "metadata": {},
   "outputs": [],
   "source": []
  }
 ],
 "metadata": {
  "kernelspec": {
   "display_name": "Python 3 (ipykernel)",
   "language": "python",
   "name": "python3"
  },
  "language_info": {
   "codemirror_mode": {
    "name": "ipython",
    "version": 3
   },
   "file_extension": ".py",
   "mimetype": "text/x-python",
   "name": "python",
   "nbconvert_exporter": "python",
   "pygments_lexer": "ipython3",
   "version": "3.10.12"
  }
 },
 "nbformat": 4,
 "nbformat_minor": 2
}
