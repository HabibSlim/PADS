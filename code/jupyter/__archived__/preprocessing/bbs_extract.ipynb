{
 "cells": [
  {
   "cell_type": "code",
   "execution_count": null,
   "metadata": {},
   "outputs": [
    {
     "name": "stdout",
     "output_type": "stream",
     "text": [
      "/ibex/user/slimhy/PADS/code\n"
     ]
    }
   ],
   "source": [
    "%cd /ibex/user/slimhy/PADS/code\n",
    "import os\n",
    "import numpy as np\n",
    "from util.misc import load_pickle, get_bb_vecs\n",
    "\n",
    "\n",
    "\n",
    "def radial_sort(points):\n",
    "    \"\"\"\n",
    "    Radially sort points in a NumPy array.\n",
    "    \n",
    "    :param points: NumPy array of shape (n, 2) where n is the number of points\n",
    "    :return: NumPy array of the same shape, with points sorted radially\n",
    "    \"\"\"\n",
    "    # Calculate the centroid\n",
    "    centroid = np.mean(points, axis=0)\n",
    "    \n",
    "    # Calculate the angles\n",
    "    angles = np.arctan2(points[:, 1] - centroid[1], points[:, 0] - centroid[0])\n",
    "    \n",
    "    # Sort the points based on their angles\n",
    "    sorted_indices = np.argsort(angles)\n",
    "    \n",
    "    return points[sorted_indices]\n",
    "\n",
    "    \n",
    "def get_part_labels(bb):\n",
    "    return np.array([b[0][1] for b in bb])\n",
    "\n",
    "def get_part_bbs__(bb):\n",
    "    all_bbs = []\n",
    "    for bb_label, bb_prim in bb:\n",
    "        centroid, vecs = get_bb_vecs(bb_prim)\n",
    "        stacked_data = np.vstack((centroid, vecs))\n",
    "        all_bbs.append(stacked_data)\n",
    "    return np.array(all_bbs)\n",
    "\n",
    "def get_part_bbs(bb):\n",
    "    try:\n",
    "        return 1, get_part_bbs__(bb)\n",
    "    except:\n",
    "        return 0, bb"
   ]
  },
  {
   "cell_type": "code",
   "execution_count": 2,
   "metadata": {},
   "outputs": [],
   "source": [
    "from tqdm.notebook import tqdm\n",
    "\n",
    "latents_dir = os.path.join(\"/ibex/project/c2273/PADS/3DCoMPaT\", \"latents\")\n",
    "bbs_dir = os.path.join(\"/ibex/project/c2273/PADS/3DCoMPaT\", \"bounding_boxes\")\n",
    "bb_data_dir = \"/ibex/project/c2273/3DCoMPaT/packaged\"\n",
    "\n",
    "for f in tqdm(sorted(os.listdir(latents_dir))):\n",
    "    if f.endswith(\".npy\"):\n",
    "        bb_file = f.replace(\".npy\", \"_part_bbs.npy\")\n",
    "        label_file = f.replace(\".npy\", \"_part_labels.npy\")\n",
    "        \n",
    "        bb_data_f = os.path.join(bb_data_dir, f.replace(\".npy\", \"_bbs.pkl\"))\n",
    "        bb_data = load_pickle(os.path.join(bbs_dir, bb_data_f))\n",
    "\n",
    "        bb_labels = get_part_labels(bb_data)\n",
    "        err, bb_coords = get_part_bbs(bb_data)\n",
    "        \n",
    "        if err == 0:\n",
    "            break\n",
    "        # Write to bb dir\n",
    "        np.save(os.path.join(bbs_dir, bb_file), bb_coords)\n",
    "        np.save(os.path.join(bbs_dir, label_file), bb_labels)"
   ]
  },
  {
   "cell_type": "code",
   "execution_count": 4,
   "metadata": {},
   "outputs": [
    {
     "data": {
      "application/vnd.jupyter.widget-view+json": {
       "model_id": "c7fa45f5c5d94afda59c77d956467fff",
       "version_major": 2,
       "version_minor": 0
      },
      "text/plain": [
       "  0%|          | 0/261545 [00:00<?, ?it/s]"
      ]
     },
     "metadata": {},
     "output_type": "display_data"
    },
    {
     "name": "stdout",
     "output_type": "stream",
     "text": [
      "All files processed successfully\n"
     ]
    }
   ],
   "source": [
    "import os\n",
    "import numpy as np\n",
    "from tqdm.notebook import tqdm\n",
    "from multiprocessing import Pool, cpu_count\n",
    "from functools import partial\n",
    "\n",
    "\n",
    "def process_file(f, latents_dir, bbs_dir, bb_data_dir):\n",
    "    if f.endswith(\".npy\"):\n",
    "        bb_file = f.replace(\".npy\", \"_part_bbs.npy\")\n",
    "        label_file = f.replace(\".npy\", \"_part_labels.npy\")\n",
    "        \n",
    "        bb_data_f = os.path.join(bb_data_dir, f.replace(\".npy\", \"_bbs.pkl\"))\n",
    "        bb_data = load_pickle(os.path.join(bbs_dir, bb_data_f))\n",
    "\n",
    "        bb_labels = get_part_labels(bb_data)\n",
    "        err, bb_coords = get_part_bbs(bb_data)\n",
    "        \n",
    "        if err == 0:\n",
    "            return 0\n",
    "        \n",
    "        # Write to bb dir\n",
    "        np.save(os.path.join(bbs_dir, bb_file), bb_coords)\n",
    "        np.save(os.path.join(bbs_dir, label_file), bb_labels)\n",
    "    \n",
    "    return 1\n",
    "\n",
    "latents_dir = os.path.join(\"/ibex/project/c2273/PADS/3DCoMPaT\", \"latents\")\n",
    "bbs_dir = os.path.join(\"/ibex/project/c2273/PADS/3DCoMPaT\", \"bounding_boxes\")\n",
    "bb_data_dir = \"/ibex/project/c2273/3DCoMPaT/packaged\"\n",
    "\n",
    "files = sorted([f for f in os.listdir(latents_dir) if f.endswith(\".npy\")])\n",
    "\n",
    "# Use all available CPU cores\n",
    "num_processes = cpu_count() // 2\n",
    "\n",
    "# Create a partial function with fixed arguments\n",
    "process_file_partial = partial(process_file, latents_dir=latents_dir, bbs_dir=bbs_dir, bb_data_dir=bb_data_dir)\n",
    "\n",
    "with Pool(processes=num_processes) as pool:\n",
    "    results = list(tqdm(pool.imap(process_file_partial, files), total=len(files)))\n",
    "\n",
    "if 0 in results:\n",
    "    print(\"Processing stopped due to an error (err == 0)\")\n",
    "else:\n",
    "    print(\"All files processed successfully\")\n"
   ]
  }
 ],
 "metadata": {
  "kernelspec": {
   "display_name": "Python 3 (ipykernel)",
   "language": "python",
   "name": "python3"
  },
  "language_info": {
   "codemirror_mode": {
    "name": "ipython",
    "version": 3
   },
   "file_extension": ".py",
   "mimetype": "text/x-python",
   "name": "python",
   "nbconvert_exporter": "python",
   "pygments_lexer": "ipython3",
   "version": "3.10.12"
  }
 },
 "nbformat": 4,
 "nbformat_minor": 2
}
