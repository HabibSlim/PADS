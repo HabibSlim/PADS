{
 "cells": [
  {
   "cell_type": "code",
   "execution_count": 1,
   "metadata": {},
   "outputs": [
    {
     "name": "stdout",
     "output_type": "stream",
     "text": [
      "/ibex/user/slimhy/PADS/code\n"
     ]
    }
   ],
   "source": [
    "%cd /ibex/user/slimhy/PADS/code/\n",
    "\"\"\"\n",
    "Extracting features into HDF5 files for each split.\n",
    "\"\"\"\n",
    "from datasets.latents import ShapeLatentDataset, ComposedPairedShapesLoader\n",
    "\n",
    "latents_dir =  \"/ibex/project/c2273/PADS/3DCoMPaT\"\n",
    "\n",
    "# Create your dataset\n",
    "dataset = ShapeLatentDataset(latents_dir)\n",
    "\n",
    "# Create the DataLoader using the sampler\n",
    "dataloader = ComposedPairedShapesLoader(\n",
    "    dataset,\n",
    "    batch_size=32,\n",
    "    pair_types_list=['rand_no_rot,rand_no_rot', 'part_drop,orig'],\n",
    "    num_workers=0\n",
    ") \n",
    "\n",
    "# Use the dataloader in your training loop\n",
    "k_break = 1\n",
    "k = 0\n",
    "for (latent_A, bb_coords_A, bb_labels_A, meta_A), (\n",
    "    latent_B,\n",
    "    bb_coords_B,\n",
    "    bb_labels_B,\n",
    "    meta_B, \n",
    ") in dataloader:\n",
    "    k += 1\n",
    "    if k == k_break:\n",
    "        break"
   ]
  }
 ],
 "metadata": {
  "kernelspec": {
   "display_name": "Python 3 (ipykernel)",
   "language": "python",
   "name": "python3"
  }
 },
 "nbformat": 4,
 "nbformat_minor": 2
}
