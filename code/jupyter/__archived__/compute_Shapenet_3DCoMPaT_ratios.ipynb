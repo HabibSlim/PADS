{
 "cells": [
  {
   "cell_type": "code",
   "execution_count": 1,
   "metadata": {},
   "outputs": [
    {
     "name": "stdout",
     "output_type": "stream",
     "text": [
      "/ibex/user/slimhy/PADS/code\n"
     ]
    }
   ],
   "source": [
    "%cd /ibex/user/slimhy/PADS/code/\n",
    "# %env CUDA_LAUNCH_BLOCKING=1\n",
    "\"\"\"\n",
    "Extracting features into HDF5 files for each split.\n",
    "\"\"\"\n",
    "import torch\n",
    "\n",
    "import numpy as np\n",
    "\n",
    "from datasets.shapeloaders import CoMPaTManifoldDataset, ShapeNetDataset\n",
    "from datasets.metadata import (\n",
    "    get_compat_transform,\n",
    "    get_shapenet_transform,\n",
    ")\n",
    "from datasets.metadata import SHAPENET_NAME_TO_SYNSET"
   ]
  },
  {
   "cell_type": "code",
   "execution_count": 2,
   "metadata": {},
   "outputs": [],
   "source": [
    "def get_stuff(surface_points):\n",
    "    # Get pc bounding box following each axis\n",
    "    min_x = surface_points[:, :, 0].min()\n",
    "    max_x = surface_points[:, :, 0].max()\n",
    "    min_y = surface_points[:, :, 1].min()\n",
    "    max_y = surface_points[:, :, 1].max()\n",
    "    min_z = surface_points[:, :, 2].min()\n",
    "    max_z = surface_points[:, :, 2].max()\n",
    "\n",
    "    # Compute extents\n",
    "    extents = [d.item() for d in [max_x - min_x, max_y - min_y, max_z - min_z]]\n",
    "    return np.array(extents)\n",
    "\n",
    "def flip_front_to_right(pc):\n",
    "    \"\"\"\n",
    "    Rotate 90° around Y axis (from front-facing to right-facing).\n",
    "    \"\"\"\n",
    "    full_transform = torch.tensor(\n",
    "        [[0.0, 0.0, -1.0], [0.0, 1.0, 0.0], [1.0, 0.0, 0.0]],\n",
    "        dtype=torch.float32,\n",
    "        device=pc.device,\n",
    "    )\n",
    "    return torch.matmul(pc.squeeze(), full_transform).unsqueeze(0)\n",
    "\n",
    "def get_datasets(active_class):\n",
    "    # Initialize the latents\n",
    "    shapenet_dataset = ShapeNetDataset(\n",
    "        dataset_folder=\"/ibex/project/c2273/ShapeNet/\",\n",
    "        shape_cls=SHAPENET_NAME_TO_SYNSET[active_class],\n",
    "        pc_size=2048,\n",
    "    )\n",
    "\n",
    "    # Initialize the latents\n",
    "    compat_dataset = CoMPaTManifoldDataset(\n",
    "        \"/ibex/project/c2273/3DCoMPaT/manifold/\",\n",
    "        active_class,\n",
    "        2048,\n",
    "        normalize=False,\n",
    "        sampling_method=\"surface\",\n",
    "        recenter_mesh=True,\n",
    "        process_mesh=True\n",
    "    )\n",
    "    \n",
    "    return shapenet_dataset, compat_dataset\n",
    "\n",
    "# Iterate over both datasets and compute the average extents\n",
    "def compute_avg_extents(dataset, transform, is_compat=False):\n",
    "    extents = []\n",
    "    for i in range(min(len(dataset), 100)):\n",
    "        if is_compat:\n",
    "            surface_points, _ = next(dataset[i])\n",
    "        else:\n",
    "            surface_points, _ = dataset[i]\n",
    "        surface_points = transform(surface_points)\n",
    "        extents.append(get_stuff(surface_points))\n",
    "    return np.mean(extents, axis=0)"
   ]
  },
  {
   "cell_type": "code",
   "execution_count": 3,
   "metadata": {},
   "outputs": [
    {
     "name": "stdout",
     "output_type": "stream",
     "text": [
      "Done with airplane.\n",
      "Done with bag.\n",
      "Done with basket.\n",
      "Done with bed.\n",
      "Done with bench.\n",
      "Done with bird_house.\n",
      "Done with boat.\n",
      "Done with cabinet.\n",
      "Done with car.\n",
      "Done with chair.\n",
      "Done with dishwasher.\n",
      "Done with dresser.\n",
      "Done with faucet.\n",
      "Done with jug.\n",
      "Done with lamp.\n",
      "Done with love_seat.\n",
      "Done with ottoman.\n",
      "Done with planter.\n",
      "Done with shelf.\n",
      "Done with skateboard.\n",
      "Done with sofa.\n",
      "Done with sports_table.\n",
      "Done with stool.\n",
      "Done with table.\n",
      "Done with trashcan.\n",
      "Done with vase.\n"
     ]
    }
   ],
   "source": [
    "from datasets.metadata import COMPAT_MATCHED_CLASSES\n",
    "\n",
    "all_extents = {}\n",
    "for active_class in COMPAT_MATCHED_CLASSES:\n",
    "    shapenet_dataset, compat_dataset = get_datasets(active_class)\n",
    "    all_extents[active_class] = {\n",
    "        \"shapenet\": compute_avg_extents(shapenet_dataset, transform=get_shapenet_transform(active_class)),\n",
    "        \"compat\": compute_avg_extents(compat_dataset, transform=get_compat_transform(active_class), is_compat=True),\n",
    "    }\n",
    "    print(f\"Done with {active_class}.\")"
   ]
  },
  {
   "cell_type": "code",
   "execution_count": 4,
   "metadata": {},
   "outputs": [],
   "source": [
    "# Dump the extents to a file as a pickle\n",
    "import util.misc as misc\n",
    "\n",
    "misc.dump_pickle(all_extents, \"/ibex/user/slimhy/PADS/data/extents.pkl\")"
   ]
  },
  {
   "cell_type": "code",
   "execution_count": 8,
   "metadata": {},
   "outputs": [
    {
     "data": {
      "text/plain": [
       "array([0.97822517, 0.91619423, 0.99975245])"
      ]
     },
     "execution_count": 8,
     "metadata": {},
     "output_type": "execute_result"
    }
   ],
   "source": [
    "all_extents['airplane']['shapenet']/all_extents['airplane']['compat']"
   ]
  },
  {
   "cell_type": "code",
   "execution_count": 9,
   "metadata": {},
   "outputs": [
    {
     "data": {
      "text/plain": [
       "array([0.8908283 , 0.29077269, 0.93418145])"
      ]
     },
     "execution_count": 9,
     "metadata": {},
     "output_type": "execute_result"
    }
   ],
   "source": [
    "all_extents['airplane']['compat']"
   ]
  },
  {
   "cell_type": "code",
   "execution_count": 10,
   "metadata": {},
   "outputs": [
    {
     "data": {
      "text/plain": [
       "array([0.87143066, 0.26640427, 0.9339502 ])"
      ]
     },
     "execution_count": 10,
     "metadata": {},
     "output_type": "execute_result"
    }
   ],
   "source": [
    "all_extents['airplane']['shapenet']"
   ]
  }
 ],
 "metadata": {
  "kernelspec": {
   "display_name": "Python 3 (ipykernel)",
   "language": "python",
   "name": "python3"
  }
 },
 "nbformat": 4,
 "nbformat_minor": 2
}
