{
 "cells": [
  {
   "cell_type": "code",
   "execution_count": null,
   "metadata": {},
   "outputs": [
    {
     "name": "stdout",
     "output_type": "stream",
     "text": [
      "/ibex/user/slimhy/PADS/code\n"
     ]
    }
   ],
   "source": [
    "%cd /ibex/user/slimhy/PADS/code\n",
    "import numpy as np\n",
    "import os\n",
    "\n",
    "PARTS_DIR = \"/ibex/project/c2273/PADS/3DCoMPaT_occ/parts\"\n",
    "SAMPLES_DIR = \"/ibex/project/c2273/PADS/3DCoMPaT_occ/samples\"\n",
    "MAX_PART_DROP = 16\n",
    "\n",
    "def load_part_bbs(model_id):\n",
    "    \"\"\"\n",
    "    Load part bounding boxes for a given model ID.\n",
    "    \"\"\"\n",
    "    bb_file = os.path.join(SAMPLES_DIR, f\"{model_id}_orig_0_bbs.pkl\")\n",
    "    # Read the file\n",
    "    bb_data = np.load(bb_file, allow_pickle=True)\n",
    "    bb_data = {k:v for k,v in bb_data}\n",
    "    bb_data = {k:np.array(v.vertices) for k,v in bb_data.items()}\n",
    "    return bb_data # {part_key: [N_p, 3]}  N_p = 131072\n",
    "\n",
    "\n",
    "def load_occs(model_id, part_drop_id=None):\n",
    "    \"\"\"\n",
    "    Load queries and occupancies for a given model ID.\n",
    "    \n",
    "    Args:\n",
    "        model_id (str): The model identifier\n",
    "        part_drop_id (int, optional): The part drop identifier. If None, loads the original \n",
    "                                    version with no parts dropped.\n",
    "    \n",
    "    Returns:\n",
    "        tuple: (queries, occupancies)\n",
    "            - queries: array of shape [5, N_p, 3]\n",
    "            - occupancies: array of shape [5, N_p, 1] squeezed to [5, N_p]\n",
    "    \"\"\"\n",
    "    if part_drop_id is None:\n",
    "        # Load original version (no parts dropped)\n",
    "        occs = os.path.join(SAMPLES_DIR, f\"{model_id}_orig_0_occs.npy\")\n",
    "        queries = os.path.join(SAMPLES_DIR, f\"{model_id}_orig_0_points.npy\")\n",
    "    else:\n",
    "        # Load part-drop version\n",
    "        occs = os.path.join(SAMPLES_DIR, f\"{model_id}_part_drop_{part_drop_id}_occs.npy\")\n",
    "        queries = os.path.join(SAMPLES_DIR, f\"{model_id}_part_drop_{part_drop_id}_points.npy\")\n",
    "    \n",
    "    # Read the files\n",
    "    occs = np.load(occs)\n",
    "    queries = np.load(queries)\n",
    "    \n",
    "    return queries, occs.reshape(*queries.shape[:2], -1).squeeze()\n",
    "\n",
    "\n",
    "def load_part_surf_points(model_id):\n",
    "    \"\"\"\n",
    "    Load part surface points for a given model ID.\n",
    "    \"\"\"\n",
    "    part_file = os.path.join(PARTS_DIR, f\"{model_id}.npy\")\n",
    "    # Read the file\n",
    "    part_data = np.load(os.path.join(PARTS_DIR, part_file), allow_pickle=True)\n",
    "    part_data = part_data.item()\n",
    "    part_data = {k:np.array(v).squeeze() for k,v in part_data.items()}\n",
    "    return part_data # [N_p, 3]  N_p = 131072\n",
    "\n",
    "\n",
    "def get_dropped_part_key(model_id, part_drop_id):\n",
    "    \"\"\"\n",
    "    Get the key for the dropped part.\n",
    "    \"\"\"\n",
    "    bb_file = os.path.join(SAMPLES_DIR, f\"{model_id}_part_drop_{part_drop_id}_bbs.pkl\")\n",
    "    # Read the file\n",
    "    bb_data = np.load(bb_file, allow_pickle=True)\n",
    "    bb_data = {k:v for k,v in bb_data}\n",
    "    \n",
    "    # Read original part labels\n",
    "    bb_file = os.path.join(SAMPLES_DIR, f\"{model_id}_orig_0_bbs.pkl\")\n",
    "    # Read the file\n",
    "    bb_data_orig = np.load(bb_file, allow_pickle=True)\n",
    "    bb_data_orig = {k:v for k,v in bb_data_orig}\n",
    "    \n",
    "    # Find the dropped part\n",
    "    dropped_part_key = set(bb_data_orig.keys()) - set(bb_data.keys())\n",
    "    assert len(dropped_part_key) == 1\n",
    "    return list(dropped_part_key)[0]"
   ]
  },
  {
   "cell_type": "code",
   "execution_count": 22,
   "metadata": {},
   "outputs": [],
   "source": [
    "part_points = load_part_surf_points(\"28_0ce\")\n",
    "part_points.keys()\n",
    "\n",
    "part_bbs = load_part_bbs(\"28_0ce\")\n",
    "part_bbs.keys()\n",
    "\n",
    "queries, occs = load_occs(\"28_0ce\", 0)\n",
    "\n",
    "dropped_key = get_dropped_part_key(\"28_0ce\", 2)"
   ]
  },
  {
   "cell_type": "code",
   "execution_count": 19,
   "metadata": {},
   "outputs": [
    {
     "data": {
      "text/plain": [
       "(131072, 3)"
      ]
     },
     "execution_count": 19,
     "metadata": {},
     "output_type": "execute_result"
    }
   ],
   "source": [
    "part_points[(0, 157)].shape"
   ]
  },
  {
   "cell_type": "code",
   "execution_count": 20,
   "metadata": {},
   "outputs": [
    {
     "data": {
      "text/plain": [
       "(8, 3)"
      ]
     },
     "execution_count": 20,
     "metadata": {},
     "output_type": "execute_result"
    }
   ],
   "source": [
    "part_bbs[(0, 157)].shape"
   ]
  },
  {
   "cell_type": "code",
   "execution_count": 21,
   "metadata": {},
   "outputs": [
    {
     "data": {
      "text/plain": [
       "((5, 131072, 3), (5, 131072))"
      ]
     },
     "execution_count": 21,
     "metadata": {},
     "output_type": "execute_result"
    }
   ],
   "source": [
    "queries.shape, occs.shape"
   ]
  }
 ],
 "metadata": {
  "kernelspec": {
   "display_name": "Python 3 (ipykernel)",
   "language": "python",
   "name": "python3"
  },
  "language_info": {
   "codemirror_mode": {
    "name": "ipython",
    "version": 3
   },
   "file_extension": ".py",
   "mimetype": "text/x-python",
   "name": "python",
   "nbconvert_exporter": "python",
   "pygments_lexer": "ipython3",
   "version": "3.10.12"
  }
 },
 "nbformat": 4,
 "nbformat_minor": 2
}
