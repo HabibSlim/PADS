{
 "cells": [
  {
   "cell_type": "code",
   "execution_count": 1,
   "metadata": {},
   "outputs": [
    {
     "name": "stdout",
     "output_type": "stream",
     "text": [
      "/ibex/user/slimhy/PADS/code\n"
     ]
    },
    {
     "name": "stderr",
     "output_type": "stream",
     "text": [
      "No CUDA runtime is found, using CUDA_HOME='/sw/rl9g/cuda/12.2/rl9_binary'\n"
     ]
    }
   ],
   "source": [
    "%cd /ibex/user/slimhy/PADS/code\n",
    "import os\n",
    "import pickle\n",
    "import numpy as np\n",
    "from util.misc import fps_subsample\n",
    "from datasets.sampling import sample_surface_tpp\n",
    "from util.mesh import CUDAMesh\n",
    "from tqdm import tqdm\n",
    "import multiprocessing as mp\n",
    "\n",
    "\n",
    "PART_INSTANCES = \"/ibex/project/c2273/3DCoMPaT/manifold_part_instances/\"\n",
    "OUT_DIR = \"/ibex/project/c2273/PADS/3DCoMPaT/part_points\"\n",
    "POINTS_PER_PART = 512\n",
    "FPS_RATIO = 0.25\n",
    "N_PROCS = 12\n",
    "N_NODES = 4\n",
    "PROC_ID = 0\n",
    "\n",
    "\n",
    "def sample_part_points(pkl_file):\n",
    "    mesh_dict = pickle.load(open(os.path.join(PART_INSTANCES, pkl_file), \"rb\"))\n",
    "    model_name = pkl_file.split(\".\")[0]\n",
    "    \n",
    "    points_dict = {}\n",
    "    for mesh_k, mesh in mesh_dict.items():\n",
    "        cuda_mesh = CUDAMesh.from_trimesh(mesh).to(\"cpu\")\n",
    "        p_points = sample_surface_tpp(cuda_mesh, POINTS_PER_PART)\n",
    "        p_points = fps_subsample(p_points / FPS_RATIO, ratio=FPS_RATIO)\n",
    "        points_dict[mesh_k] = p_points.cpu().squeeze()\n",
    "\n",
    "    np.save(f\"{OUT_DIR}/{model_name}.npy\", points_dict)\n",
    "    return pkl_file\n"
   ]
  },
  {
   "cell_type": "code",
   "execution_count": 2,
   "metadata": {},
   "outputs": [
    {
     "name": "stderr",
     "output_type": "stream",
     "text": [
      "Processing files: 100%|██████████| 2502/2502 [1:29:10<00:00,  2.14s/it]  \n"
     ]
    }
   ],
   "source": [
    "pkl_files = [f for f in os.listdir(PART_INSTANCES) if f.endswith(\".pkl\")]\n",
    "pkl_files.sort()\n",
    "\n",
    "\n",
    "def chunk(l, n):\n",
    "    \"\"\"\n",
    "    Chunk a list into n equally sized sublists.\n",
    "    And NOT chunk it into sublists of size n.\n",
    "    \"\"\"\n",
    "    return [l[i*len(l)//n:(i+1)*len(l)//n] for i in range(n)]\n",
    "\n",
    "pkl_files = chunk(pkl_files, N_NODES)[PROC_ID]\n",
    "\n",
    "# Create a pool of workers\n",
    "with mp.Pool(processes=N_PROCS) as pool:\n",
    "    # Use imap to process files and update the progress bar\n",
    "    for _ in tqdm(pool.imap_unordered(sample_part_points, pkl_files), total=len(pkl_files), desc=\"Processing files\"):\n",
    "        pass"
   ]
  }
 ],
 "metadata": {
  "kernelspec": {
   "display_name": "Python 3 (ipykernel)",
   "language": "python",
   "name": "python3"
  }
 },
 "nbformat": 4,
 "nbformat_minor": 2
}
