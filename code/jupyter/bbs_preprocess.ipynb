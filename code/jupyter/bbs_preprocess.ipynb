{
 "cells": [
  {
   "cell_type": "code",
   "execution_count": null,
   "metadata": {},
   "outputs": [],
   "source": [
    "%cd /ibex/user/slimhy/PADS/code\n",
    "\"\"\"\n",
    "Extracting features into HDF5 files for each split.\n",
    "\"\"\"\n",
    "import argparse\n",
    "import torch\n",
    "import numpy as np\n",
    "import trimesh\n",
    "import os\n",
    "import zipfile\n",
    "import json\n",
    "from datasets.CoMPaT.compat3D import SegmentedMeshLoader\n",
    "from datasets.metadata import class_to_idx\n",
    "\n",
    "\n",
    "ZIP_PATH = \"/home/slimhy/Documents/datasets/0_shapes/3DCoMPaT/zip/3DCoMPaT_ZIP.zip\"\n",
    "META_DIR = \"/home/slimhy/Documents/3DCoMPaT/repo/metadata\"\n",
    "\n",
    "# Instantiating segment dataset\n",
    "seg_dataset = SegmentedMeshLoader(\n",
    "    filter_class=[class_to_idx(\"chair\")],\n",
    "    zip_path=ZIP_PATH,\n",
    "    meta_dir=META_DIR,\n",
    "    split=\"train\",\n",
    "    shuffle=True,\n",
    "    get_instances=True,\n",
    "    seed=0,\n",
    ")\n",
    "\n",
    "mesh_map = seg_dataset[1]"
   ]
  },
  {
   "cell_type": "code",
   "execution_count": 2,
   "metadata": {},
   "outputs": [],
   "source": [
    "from util.misc import get_bb_vecs\n",
    "\n",
    "PART_ID = 0\n",
    "\n",
    "part_mesh = list(mesh_map.values())[PART_ID]\n",
    "if isinstance(part_mesh, list):\n",
    "    part_mesh = part_mesh[0]\n",
    "bb_prim = part_mesh.bounding_box_oriented\n",
    "centroid, vecs = get_bb_vecs(bb_prim)"
   ]
  },
  {
   "cell_type": "code",
   "execution_count": null,
   "metadata": {},
   "outputs": [],
   "source": [
    "import k3d\n",
    "\n",
    "# plot all points in bbox\n",
    "plot = k3d.plot()\n",
    "\n",
    "# plot centroid\n",
    "plot += k3d.points(centroid, point_size=0.02, color=0x00ff00)\n",
    "\n",
    "# add the mesh\n",
    "plot += k3d.mesh(part_mesh.vertices, part_mesh.faces, color=0xefefef, opacity=0.8)\n",
    "\n",
    "# plot all points\n",
    "for idx, points in enumerate(bb_prim.vertices):\n",
    "    plot += k3d.points(points, point_size=0.02, color=0xff0000, opacity=0.8)\n",
    "    \n",
    "# add bb as a besh\n",
    "plot += k3d.mesh(bb_prim.vertices, bb_prim.faces, color=0xff00ff, opacity=0.2)\n",
    "    \n",
    "# plot u, v, w as lines\n",
    "for v in vecs:\n",
    "    plot += k3d.line([centroid, centroid + v], color=0x0000ff, opacity=0.8)\n",
    "    \n",
    "for v in vecs:\n",
    "    plot += k3d.line([centroid, centroid - v], color=0x00ff00, opacity=0.8)\n",
    "    \n",
    "plot.display()"
   ]
  },
  {
   "cell_type": "code",
   "execution_count": null,
   "metadata": {},
   "outputs": [],
   "source": [
    "import k3d\n",
    "\n",
    "# plot all points in bbox\n",
    "plot = k3d.plot()\n",
    "\n",
    "def add_mesh(mesh, plot):\n",
    "    plot += k3d.mesh(mesh.vertices, mesh.faces, color=0xefefef, opacity=0.8)\n",
    "    return plot\n",
    "\n",
    "# now plot all parts\n",
    "part_mesh = list(mesh_map.values())\n",
    "for mesh in part_mesh:\n",
    "    if isinstance(mesh, list):\n",
    "        for submesh in mesh:\n",
    "            plot = add_mesh(submesh, plot)\n",
    "    else:\n",
    "        add_mesh(mesh, plot)\n",
    "\n",
    "plot.display()"
   ]
  },
  {
   "cell_type": "code",
   "execution_count": null,
   "metadata": {},
   "outputs": [],
   "source": []
  }
 ],
 "metadata": {
  "kernelspec": {
   "display_name": "shape2vecset",
   "language": "python",
   "name": "python3"
  },
  "language_info": {
   "codemirror_mode": {
    "name": "ipython",
    "version": 3
   },
   "file_extension": ".py",
   "mimetype": "text/x-python",
   "name": "python",
   "nbconvert_exporter": "python",
   "pygments_lexer": "ipython3",
   "version": "3.10.12"
  }
 },
 "nbformat": 4,
 "nbformat_minor": 2
}
