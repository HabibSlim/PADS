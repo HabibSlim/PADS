{
 "cells": [
  {
   "cell_type": "code",
   "execution_count": null,
   "metadata": {},
   "outputs": [],
   "source": [
    "%cd /ibex/user/slimhy/PADS/code/\n",
    "\"\"\"\n",
    "Extracting features into HDF5 files for each split.\n",
    "\"\"\"\n",
    "import argparse\n",
    "import json\n",
    "import os\n",
    "import torch\n",
    "import trimesh\n",
    "import zipfile\n",
    "\n",
    "import util.misc as misc\n",
    "import util.s2vs as s2vs\n",
    "\n",
    "from datasets.CoMPaT.compat3D import SegmentedMeshLoader\n",
    "from datasets.CoMPaT.utils3D.plot import label_to_RGB, FINE_RGB_RANGE\n",
    "from datasets.metadata import (\n",
    "    COMPAT_CLASSES,\n",
    "    int_to_hex,\n",
    ")\n",
    "from util.misc import CUDAMesh, d_GPU, show_side_by_side\n",
    "from voxelize.preprocess import mesh_to_manifold_plus"
   ]
  },
  {
   "cell_type": "code",
   "execution_count": null,
   "metadata": {},
   "outputs": [],
   "source": [
    "IN_PATH = \"/ibex/project/c2273/3DCoMPaT/manifold\"\n",
    "N_POINTS = 2*20\n",
    "MAX_SAMPLE_SIZE = 2**17\n",
    "NEAR_SURFACE_NOISE = 0.01\n",
    "CONTAIN_METHOD = \"occnet\""
   ]
  },
  {
   "cell_type": "code",
   "execution_count": null,
   "metadata": {},
   "outputs": [],
   "source": [
    "def sample_batched(mesh, n_points, sampling_method=\"surface\"):\n",
    "    \"\"\"\n",
    "    Sampling points on the mesh in batches.\n",
    "    \"\"\"\n",
    "    # Defining the sampling function\n",
    "    sampling_fn = get_sampling_function(\n",
    "        sampling_method, noise_std=NEAR_SURFACE_NOISE, contain_method=CONTAIN_METHOD\n",
    "    )\n",
    "\n",
    "    # Use batch sampling\n",
    "    n_batches = n_points // MAX_SAMPLE_SIZE\n",
    "    all_points, all_occs = [], []\n",
    "    for k in range(n_batches):\n",
    "        if k % 4 == 0:\n",
    "            print(\"Sampling batch [%d/%d]\" % (k + 1, n_batches))\n",
    "        points, occs = sampling_fn(mesh, MAX_SAMPLE_SIZE)\n",
    "        all_points += [points]\n",
    "        all_occs += [occs]\n",
    "        \n",
    "    # Concatenate the results\n",
    "    all_points = torch.cat(all_points, dim=0)\n",
    "    all_occs = torch.cat(all_occs, dim=0)\n",
    "\n",
    "    return all_points, all_occs"
   ]
  },
  {
   "cell_type": "code",
   "execution_count": null,
   "metadata": {},
   "outputs": [],
   "source": [
    "# Get the list of all models\n",
    "all_models = os.listdir(IN_PATH)\n",
    "all_models = [os.path.basename(f).split(\".\")[0] for f in all_models]\n",
    "\n",
    "# \n"
   ]
  }
 ],
 "metadata": {
  "kernelspec": {
   "display_name": "Python 3 (ipykernel)",
   "language": "python",
   "name": "python3"
  },
  "language_info": {
   "codemirror_mode": {
    "name": "ipython",
    "version": 3
   },
   "file_extension": ".py",
   "mimetype": "text/x-python",
   "name": "python",
   "nbconvert_exporter": "python",
   "pygments_lexer": "ipython3",
   "version": "3.10.12"
  }
 },
 "nbformat": 4,
 "nbformat_minor": 2
}
