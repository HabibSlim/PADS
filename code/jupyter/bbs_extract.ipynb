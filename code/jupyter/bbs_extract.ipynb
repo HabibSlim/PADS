{
 "cells": [
  {
   "cell_type": "code",
   "execution_count": 1,
   "metadata": {},
   "outputs": [],
   "source": [
    "%cd /ibex/user/slimhy/PADS/code/\n",
    "import glob\n",
    "import os\n",
    "import numpy as np\n",
    "from util.misc import load_pickle\n",
    "\n",
    "\n",
    "DATA_PATH = \"/ibex/project/c2273/3DCoMPaT/packaged\"\n",
    "OUT_PATH =  \"/ibex/project/c2273/3DCoMPaT/bounding_boxes\"\n",
    "\n",
    "def radial_sort(points):\n",
    "    \"\"\"\n",
    "    Radially sort points in a NumPy array.\n",
    "    \n",
    "    :param points: NumPy array of shape (n, 2) where n is the number of points\n",
    "    :return: NumPy array of the same shape, with points sorted radially\n",
    "    \"\"\"\n",
    "    # Calculate the centroid\n",
    "    centroid = np.mean(points, axis=0)\n",
    "    \n",
    "    # Calculate the angles\n",
    "    angles = np.arctan2(points[:, 1] - centroid[1], points[:, 0] - centroid[0])\n",
    "    \n",
    "    # Sort the points based on their angles\n",
    "    sorted_indices = np.argsort(angles)\n",
    "    \n",
    "    return points[sorted_indices]\n",
    "\n",
    "\n",
    "def dump_mat(mat, f_name):\n",
    "    \"\"\"\n",
    "    Dump a numpy matrix to a npy file.\n",
    "    \"\"\"\n",
    "    f_out = os.path.join(OUT_PATH, f_name)\n",
    "    np.save(f_out, mat)\n",
    "    \n",
    "    \n",
    "def get_part_labels(bb):\n",
    "    return np.array([b[0][1] for b in bb])\n",
    "\n",
    "\n",
    "def get_part_bbs(bb):\n",
    "    return np.array([radial_sort(np.array(b[1].vertices)) for b in bb])"
   ]
  },
  {
   "cell_type": "code",
   "execution_count": 2,
   "metadata": {},
   "outputs": [],
   "source": [
    "from tqdm.notebook import tqdm\n",
    "\n",
    "all_files = glob.glob(os.path.join(DATA_PATH, \"*bbs.pkl\"))\n",
    "\n",
    "for f_name in tqdm(all_files):\n",
    "    bb = load_pickle(f_name)\n",
    "    part_labels = get_part_labels(bb)\n",
    "    break"
   ]
  },
  {
   "cell_type": "code",
   "execution_count": 24,
   "metadata": {},
   "outputs": [],
   "source": [
    "file_list = []\n",
    "latents_dir = os.path.join(\"/ibex/project/c2273/PADS/3DCoMPaT\", \"latents\")\n",
    "bbs_dir = os.path.join(\"/ibex/project/c2273/PADS/3DCoMPaT\", \"bounding_boxes\")\n",
    "PART_CAP = 24\n",
    "for f in sorted(os.listdir(latents_dir)):\n",
    "    if f.endswith(\".npy\"):\n",
    "        file_type = \"_\".join(f.split(\"_\")[2:-1])\n",
    "        latent_f = f\n",
    "        bb_coords_f = f.replace(\".npy\", \"_part_bbs.npy\")\n",
    "        bb_coords = np.load(os.path.join(bbs_dir, bb_coords_f))\n",
    "        if bb_coords.shape[0] > PART_CAP:\n",
    "            continue\n",
    "        file_list += [latent_f.replace(\".npy\", \"\")]\n",
    "    # break"
   ]
  },
  {
   "cell_type": "code",
   "execution_count": 25,
   "metadata": {},
   "outputs": [],
   "source": [
    "file_list.sort()\n",
    "# Dump to JSON\n",
    "import json\n",
    "\n",
    "with open(os.path.join(\"/ibex/project/c2273/PADS/3DCoMPaT\", \"file_list_capped.json\"), \"w\") as f:\n",
    "    json.dump(file_list, f)"
   ]
  },
  {
   "cell_type": "code",
   "execution_count": 26,
   "metadata": {},
   "outputs": [],
   "source": [
    "len(file_list)"
   ]
  },
  {
   "cell_type": "code",
   "execution_count": 27,
   "metadata": {},
   "outputs": [],
   "source": [
    "final_list = []\n",
    "for f in file_list:\n",
    "    file_type = \"_\".join(f.split(\"_\")[2:-1])\n",
    "    if file_type not in []:\n",
    "        bb_coords_f = f + \"_part_bbs\"\n",
    "        bb_labels_f = f + \"_part_labels\"\n",
    "        final_list += [[k + \".npy\" for k in [f, bb_coords_f, bb_labels_f]]]\n"
   ]
  },
  {
   "cell_type": "code",
   "execution_count": null,
   "metadata": {},
   "outputs": [],
   "source": [
    "float(-6.2343e-02)"
   ]
  },
  {
   "cell_type": "code",
   "execution_count": 28,
   "metadata": {},
   "outputs": [],
   "source": [
    "final_list"
   ]
  },
  {
   "cell_type": "code",
   "execution_count": null,
   "metadata": {},
   "outputs": [],
   "source": []
  }
 ],
 "metadata": {
  "kernelspec": {
   "display_name": "Python 3 (ipykernel)",
   "language": "python",
   "name": "python3"
  }
 },
 "nbformat": 4,
 "nbformat_minor": 2
}
