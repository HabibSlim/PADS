{
 "cells": [
  {
   "cell_type": "code",
   "execution_count": 1,
   "metadata": {},
   "outputs": [],
   "source": [
    "import h5py\n",
    "import json\n",
    "\n",
    "\n",
    "def check_keys(key2shape, keypair):\n",
    "    \"\"\"\n",
    "    Check that all keys in the key pairs appear in key2shape.\n",
    "    \"\"\"\n",
    "    for key_a, key_b in [k.split(\"_\") for k in keypair]:\n",
    "        assert key_a in key2shape\n",
    "        assert key_b in key2shape\n",
    "\n",
    "\n",
    "def open_hdf5(hdf5_path):\n",
    "    # Open HDF5 file\n",
    "    print(\"Opening HDF5 file %s\" % hdf5_path)\n",
    "    f = h5py.File(hdf5_path, \"r\")\n",
    "\n",
    "    # Load keys\n",
    "    print(\"Loading keys\")\n",
    "    key_to_shape_emebds = json.loads(f[\"key_to_shape_embeds\"][0])\n",
    "    key2pairtext_embed = json.loads(f[\"key_pair_to_text_embeds\"][0])\n",
    "\n",
    "    print(len(key_to_shape_emebds), len(key2pairtext_embed))\n",
    "\n",
    "    f.close()\n",
    "\n",
    "    return key_to_shape_emebds, key2pairtext_embed"
   ]
  },
  {
   "cell_type": "code",
   "execution_count": 2,
   "metadata": {},
   "outputs": [
    {
     "name": "stdout",
     "output_type": "stream",
     "text": [
      "Opening HDF5 file /ibex/user/slimhy/ShapeWalk/release_chained/embeddings_train__imnet.hdf5\n",
      "Loading keys\n",
      "74911 79040\n"
     ]
    }
   ],
   "source": [
    "hdf5_path = \"/ibex/user/slimhy/ShapeWalk/release_chained/embeddings_train__imnet.hdf5\"\n",
    "key_to_shape_emebds, key2pairtext_embed = open_hdf5(hdf5_path)"
   ]
  },
  {
   "cell_type": "code",
   "execution_count": 3,
   "metadata": {},
   "outputs": [],
   "source": [
    "check_keys(key_to_shape_emebds, key2pairtext_embed)"
   ]
  },
  {
   "cell_type": "code",
   "execution_count": 4,
   "metadata": {},
   "outputs": [
    {
     "name": "stdout",
     "output_type": "stream",
     "text": [
      "Opening HDF5 file /ibex/user/slimhy/ShapeWalk/release_chained/embeddings_val__imnet.hdf5\n",
      "Loading keys\n",
      "4302 4180\n"
     ]
    }
   ],
   "source": [
    "# Open HDF5 file\n",
    "hdf5_path = \"/ibex/user/slimhy/ShapeWalk/release_chained/embeddings_val__imnet.hdf5\"\n",
    "key_to_shape_emebds_v, key2pairtext_embed_v = open_hdf5(hdf5_path)"
   ]
  },
  {
   "cell_type": "code",
   "execution_count": 5,
   "metadata": {},
   "outputs": [],
   "source": [
    "check_keys(key_to_shape_emebds_v, key2pairtext_embed_v)"
   ]
  },
  {
   "cell_type": "code",
   "execution_count": 6,
   "metadata": {},
   "outputs": [],
   "source": [
    "train_set = json.load(open(\"/ibex/user/slimhy/ShapeWalk/release_chained/release_chained_train.json\"))\n",
    "val_set = json.load(open(\"/ibex/user/slimhy/ShapeWalk/release_chained/release_chained_val.json\"))"
   ]
  },
  {
   "cell_type": "code",
   "execution_count": 7,
   "metadata": {},
   "outputs": [
    {
     "data": {
      "text/plain": [
       "(4180, 4180, 4180)"
      ]
     },
     "execution_count": 7,
     "metadata": {},
     "output_type": "execute_result"
    }
   ],
   "source": [
    "len(set(key2pairtext_embed_v.keys()) & set(val_set.keys())), len(val_set), len(key2pairtext_embed_v)"
   ]
  },
  {
   "cell_type": "code",
   "execution_count": 8,
   "metadata": {},
   "outputs": [
    {
     "data": {
      "text/plain": [
       "(79040, 79040, 79040)"
      ]
     },
     "execution_count": 8,
     "metadata": {},
     "output_type": "execute_result"
    }
   ],
   "source": [
    "len(set(key2pairtext_embed.keys()) & set(train_set.keys())), len(train_set), len(key2pairtext_embed)"
   ]
  }
 ],
 "metadata": {
  "kernelspec": {
   "display_name": "shape2vecset",
   "language": "python",
   "name": "python3"
  },
  "language_info": {
   "codemirror_mode": {
    "name": "ipython",
    "version": 3
   },
   "file_extension": ".py",
   "mimetype": "text/x-python",
   "name": "python",
   "nbconvert_exporter": "python",
   "pygments_lexer": "ipython3",
   "version": "3.10.12"
  }
 },
 "nbformat": 4,
 "nbformat_minor": 2
}
