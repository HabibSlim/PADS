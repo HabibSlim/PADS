{
 "cells": [
  {
   "cell_type": "code",
   "execution_count": 19,
   "metadata": {},
   "outputs": [
    {
     "name": "stderr",
     "output_type": "stream",
     "text": [
      "100%|██████████| 79256/79256 [02:43<00:00, 485.60it/s]\n"
     ]
    }
   ],
   "source": [
    "import glob\n",
    "import numpy as np\n",
    "import tqdm\n",
    "\n",
    "npy_dir = \"/ibex/user/slimhy/ShapeWalk_RND/voxels/\"\n",
    "\n",
    "def load_voxels(path):\n",
    "    data = np.load(path)\n",
    "    voxels = np.unpackbits(data, axis=-1)\n",
    "    voxels = np.expand_dims(voxels, axis=0)\n",
    "    return voxels\n",
    "\n",
    "# List all the npy files\n",
    "npy_files = glob.glob(npy_dir + \"*.npy\")\n",
    "\n",
    "all_wrong = []\n",
    "for npy_file in tqdm.tqdm(npy_files):\n",
    "    try:\n",
    "        data = load_voxels(npy_file)\n",
    "    except Exception as e:\n",
    "        all_wrong.append(npy_file)"
   ]
  },
  {
   "cell_type": "code",
   "execution_count": 3,
   "metadata": {},
   "outputs": [],
   "source": [
    "import os\n",
    "all_file_codes = [os.path.basename(f) for f in all_wrong]\n",
    "all_file_codes"
   ]
  },
  {
   "cell_type": "code",
   "execution_count": 18,
   "metadata": {},
   "outputs": [
    {
     "name": "stderr",
     "output_type": "stream",
     "text": [
      "100%|██████████| 8/8 [00:00<00:00, 384.48it/s]\n"
     ]
    }
   ],
   "source": [
    "import os\n",
    "import glob\n",
    "import numpy as np\n",
    "import tqdm\n",
    "\n",
    "def load_voxels(path):\n",
    "    data = np.load(path)\n",
    "    voxels = np.unpackbits(data, axis=-1)\n",
    "    voxels = np.expand_dims(voxels, axis=0)\n",
    "    return voxels\n",
    "\n",
    "npy_dir = \"/ibex/user/slimhy/ShapeWalk/voxels/\"\n",
    "\n",
    "wrong_files = ['538085594287396785.npy',\n",
    " '511204417948777787.npy',\n",
    " '515890682497093265.npy',\n",
    " '567678021262807605.npy',\n",
    " '579732311956622259.npy',\n",
    " '535736676014233363.npy',\n",
    " '561481371803113784.npy',\n",
    " '547322459226286617.npy']\n",
    "\n",
    "# Retest the wrong files\n",
    "for wrong_file in tqdm.tqdm(wrong_files):\n",
    "    try:\n",
    "        data = load_voxels(npy_dir + wrong_file)\n",
    "    except Exception as e:\n",
    "        print(e)\n",
    "        print(\"Still wrong: \", wrong_file)\n",
    "        # Delete the wrong file\n",
    "        # os.remove(npy_dir + wrong_file)"
   ]
  },
  {
   "cell_type": "code",
   "execution_count": 21,
   "metadata": {},
   "outputs": [],
   "source": [
    "wrong_files = ['538085594287396785',\n",
    "'511204417948777787',\n",
    "'515890682497093265',\n",
    "'567678021262807605',\n",
    "'579732311956622259',\n",
    "'535736676014233363',\n",
    "'561481371803113784',\n",
    "'547322459226286617']"
   ]
  },
  {
   "cell_type": "code",
   "execution_count": 24,
   "metadata": {},
   "outputs": [
    {
     "data": {
      "text/plain": [
       "False"
      ]
     },
     "execution_count": 24,
     "metadata": {},
     "output_type": "execute_result"
    }
   ],
   "source": [
    "def check_key(key, key_set):\n",
    "    key_a, key_b = key.split(\"_\")\n",
    "    return key_a in key_set or key_b in key_set\n",
    "\n",
    "check_key(\"53808559428739d785_538085594d87396785\", wrong_files)"
   ]
  },
  {
   "cell_type": "code",
   "execution_count": null,
   "metadata": {},
   "outputs": [],
   "source": []
  }
 ],
 "metadata": {
  "kernelspec": {
   "display_name": "shape2vecset",
   "language": "python",
   "name": "python3"
  },
  "language_info": {
   "codemirror_mode": {
    "name": "ipython",
    "version": 3
   },
   "file_extension": ".py",
   "mimetype": "text/x-python",
   "name": "python",
   "nbconvert_exporter": "python",
   "pygments_lexer": "ipython3",
   "version": "3.10.12"
  }
 },
 "nbformat": 4,
 "nbformat_minor": 2
}
