{
 "cells": [
  {
   "cell_type": "code",
   "execution_count": 1,
   "metadata": {},
   "outputs": [
    {
     "data": {
      "text/plain": [
       "7999"
      ]
     },
     "execution_count": 1,
     "metadata": {},
     "output_type": "execute_result"
    }
   ],
   "source": [
    "import json\n",
    "import os\n",
    "\n",
    "split_pth = \"/home/slimhy/Documents/datasets/PADS/3DCoMPaT/splits.json\"\n",
    "splits = json.load(open(split_pth, \"r\"))\n",
    "\n",
    "all_files = os.listdir(\"/home/slimhy/Documents/datasets/PADS/3DCoMPaT/bounding_boxes/\")\n",
    "all_files = set([f[:6] for f in all_files])\n",
    "len(all_files)"
   ]
  },
  {
   "cell_type": "code",
   "execution_count": 2,
   "metadata": {},
   "outputs": [],
   "source": [
    "train_files = set(splits['train']) | set(splits['test'])\n",
    "test_files = set(splits['valid'])"
   ]
  },
  {
   "cell_type": "code",
   "execution_count": 3,
   "metadata": {},
   "outputs": [],
   "source": [
    "# Dump to out path\n",
    "json.dump(list(train_files), open(\"/home/slimhy/Documents/datasets/PADS/3DCoMPaT/split_train.json\", \"w\"))\n",
    "json.dump(list(test_files), open(\"/home/slimhy/Documents/datasets/PADS/3DCoMPaT/split_test.json\", \"w\"))"
   ]
  }
 ],
 "metadata": {
  "kernelspec": {
   "display_name": "shape2vecset",
   "language": "python",
   "name": "python3"
  },
  "language_info": {
   "codemirror_mode": {
    "name": "ipython",
    "version": 3
   },
   "file_extension": ".py",
   "mimetype": "text/x-python",
   "name": "python",
   "nbconvert_exporter": "python",
   "pygments_lexer": "ipython3",
   "version": "3.10.12"
  }
 },
 "nbformat": 4,
 "nbformat_minor": 2
}
