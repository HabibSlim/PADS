{
 "cells": [
  {
   "cell_type": "code",
   "execution_count": 1,
   "metadata": {},
   "outputs": [
    {
     "name": "stdout",
     "output_type": "stream",
     "text": [
      "/ibex/user/slimhy/Shape2VecSet/code\n",
      "Jitting Chamfer 3D\n",
      "Loaded JIT 3D CUDA chamfer distance\n"
     ]
    }
   ],
   "source": [
    "\"\"\"\n",
    "Chained evaluation of the models.\n",
    "\"\"\"\n",
    "%cd /ibex/user/slimhy/Shape2VecSet/code\n",
    "\n",
    "import numpy as np\n",
    "from eval.metrics import run_exps\n",
    "from eval.model_map import MODEL_MAP_IMNET\n",
    "from eval.utils import display_latex, init_exps\n",
    "from models.imnet import load_imnet\n",
    "from transforms import get_imnet_transform"
   ]
  },
  {
   "cell_type": "code",
   "execution_count": 2,
   "metadata": {},
   "outputs": [],
   "source": [
    "CKPT_ROOT = \"/ibex/user/slimhy/Shape2VecSet/output/graph_edit/dm/\"\n",
    "AE_MODEl_NAME = \"imnet\"\n",
    "AE_MODEL_PATH = \"/ibex/user/slimhy/Shape2VecSet/ckpt/imnet/imnet_ckpt.pth\"\n",
    "\n",
    "ae_model = None\n",
    "mean_results = {}\n",
    "row_entries = {}\n",
    "\n",
    "for k, model_map in enumerate(MODEL_MAP_IMNET):\n",
    "    args, model, device = init_exps(\n",
    "        model_map[\"model_name\"], CKPT_ROOT + model_map[\"checkpoint\"], AE_MODEl_NAME\n",
    "    )\n",
    "\n",
    "    # Get the point cloud transform\n",
    "    pc_t = get_imnet_transform(args)\n",
    "\n",
    "    # Instantiate autoencoder\n",
    "    if ae_model is None:\n",
    "        ae_model = load_imnet(AE_MODEL_PATH)\n",
    "\n",
    "    full_results = run_exps(args, model, ae_model, device, pc_t)\n",
    "    mean_results[model_map[\"model_name\"]] = full_results[\"mean\"]\n",
    "    row_entries[model_map[\"model_name\"]] = full_results[\"tuples\"]"
   ]
  },
  {
   "cell_type": "code",
   "execution_count": null,
   "metadata": {},
   "outputs": [],
   "source": [
    "# Dump everything to a pickle and save\n",
    "import pickle\n",
    "with open(\"imnet_results.pkl\", \"wb\") as f:\n",
    "    pickle.dump(mean_results, f)\n",
    "    pickle.dump(row_entries, f)"
   ]
  },
  {
   "cell_type": "markdown",
   "metadata": {},
   "source": [
    "### Detailed chain-wise metrics"
   ]
  },
  {
   "cell_type": "code",
   "execution_count": null,
   "metadata": {},
   "outputs": [],
   "source": [
    "table_header = \"\"\"\n",
    "\\\\begin{tabular}{@{}lcccccccccccccccccccccccccc@{}}\n",
    "    \\\\toprule\n",
    "    \\multicolumn{1}{c}{\\multirow{2}{*}{\\\\textbf{Model}}} & \\multicolumn{1}{c}{\\multirow{2}{*}{decoupled?}}\n",
    "    &  & \\multicolumn{6}{c}{$|\\mathcal{P}|$ = 10}\n",
    "    &  & \\multicolumn{6}{c}{$|\\mathcal{P}|$ = 15}\n",
    "    &  & \\multicolumn{6}{c}{$|\\mathcal{P}|$ = 20} \\\\\\\\ \\cmidrule(l){4-23}\n",
    "    \\multicolumn{1}{c}{}  & \\multicolumn{1}{c}{}\n",
    "    &\n",
    "    & $\\\\textsc{F}_{\\\\textsc{CD} - \\\\textsc{Rec}}$\n",
    "    & \\multicolumn{1}{c}{$\\\\textsc{A}_{\\\\textsc{CD} - \\\\textsc{Rec}}$}\n",
    "    & $\\\\textsc{F}_{\\\\textsc{CD} - \\\\textsc{Real}}$\n",
    "    & \\multicolumn{1}{c}{$\\\\textsc{A}_{\\\\textsc{CD} - \\\\textsc{Real}}$}\n",
    "    & \\multicolumn{1}{c}{$\\\\textsc{F}_{\\mathcal{L}_2}$}\n",
    "    & \\multicolumn{1}{c}{$\\\\textsc{A}_{\\mathcal{L}_2}$}\n",
    "    &\n",
    "    & $\\\\textsc{F}_{\\\\textsc{CD} - \\\\textsc{Rec}}$\n",
    "    & \\multicolumn{1}{c}{$\\\\textsc{A}_{\\\\textsc{CD} - \\\\textsc{Rec}}$}\n",
    "    & $\\\\textsc{F}_{\\\\textsc{CD} - \\\\textsc{Real}}$\n",
    "    & \\multicolumn{1}{c}{$\\\\textsc{A}_{\\\\textsc{CD} - \\\\textsc{Real}}$}\n",
    "    & \\multicolumn{1}{c}{$\\\\textsc{F}_{\\mathcal{L}_2}$}\n",
    "    & \\multicolumn{1}{c}{$\\\\textsc{A}_{\\mathcal{L}_2}$}\n",
    "    &\n",
    "    & $\\\\textsc{F}_{\\\\textsc{CD} - \\\\textsc{Rec}}$\n",
    "    & \\multicolumn{1}{c}{$\\\\textsc{A}_{\\\\textsc{CD} - \\\\textsc{Rec}}$}\n",
    "    & $\\\\textsc{F}_{\\\\textsc{CD} - \\\\textsc{Real}}$\n",
    "    & \\multicolumn{1}{c}{$\\\\textsc{A}_{\\\\textsc{CD} - \\\\textsc{Real}}$}\n",
    "    & \\multicolumn{1}{c}{$\\\\textsc{F}_{\\mathcal{L}_2}$}\n",
    "    & \\multicolumn{1}{c}{$\\\\textsc{A}_{\\mathcal{L}_2}$} \\\\\\\\ \\midrule\n",
    "\"\"\"\n",
    "table_entry = \"    & & %s & \\multicolumn{1}{c}{%s} & \\multicolumn{1}{c}{%s} & \\multicolumn{1}{c}{%s} & \\multicolumn{1}{c}{%s} & \\multicolumn{1}{c}{%s}\"\n",
    "table_sep = \"\\\\arrayrulecolor{black!30}\\midrule\\\\arrayrulecolor{black!100}\"\n",
    "table_footer = \"\"\"\n",
    "    \\\\bottomrule\n",
    "\\end{tabular}%\n",
    "\"\"\"\n",
    "table_is_decoupled = \"& \\multicolumn{1}{c}{\\%s}\""
   ]
  },
  {
   "cell_type": "code",
   "execution_count": null,
   "metadata": {},
   "outputs": [],
   "source": [
    "results_np = np.array([np.array(row_entries[model_name]).flatten() for model_name in row_entries.keys()])\n",
    "\n",
    "# Mark the maximum column-wise\n",
    "model_rows = {}\n",
    "for k, (model_name, results) in enumerate(row_entries.items()):\n",
    "    results = np.array(results).flatten()\n",
    "    results_txt = [\"\\\\textbf{%.3f}\" % j if j == np.min(results_np[:, i]) else \"%.3f\" % j for i, j in enumerate(results)]\n",
    "    model_rows[model_name] = (table_entry*3) % tuple(results_txt)"
   ]
  },
  {
   "cell_type": "code",
   "execution_count": null,
   "metadata": {},
   "outputs": [],
   "source": [
    "# Generate LaTeX table\n",
    "line_seps = [4]\n",
    "output_table = \"\"\n",
    "output_table += table_header\n",
    "for k, model_map in enumerate(MODEL_MAP_IMNET):\n",
    "    if model_map[\"model_name\"] not in model_rows:\n",
    "        continue\n",
    "    model_name = model_map[\"model_name\"]\n",
    "    output_table += \"$\" + model_map[\"method_code\"] + \"$\"\n",
    "    output_table += table_is_decoupled % (\"icoyes\" if model_map[\"is_decoupled\"] else \"icono\")\n",
    "    output_table += model_rows[model_name]\n",
    "    output_table += \"\\\\\\\\\"\n",
    "    output_table += \"\\n\"\n",
    "    if k in line_seps:\n",
    "        output_table += table_sep\n",
    "        output_table += \"\\n\"\n",
    "output_table += table_footer"
   ]
  },
  {
   "cell_type": "code",
   "execution_count": null,
   "metadata": {},
   "outputs": [],
   "source": [
    "display_latex(output_table, crop_zone=(50, 210, 1725, 610))"
   ]
  },
  {
   "cell_type": "code",
   "execution_count": null,
   "metadata": {},
   "outputs": [],
   "source": [
    "# Write to LaTeX file\n",
    "with open(\"eval/__latex__/imnet_eval__all.tex\", \"w\") as f:\n",
    "    f.write(output_table)"
   ]
  },
  {
   "cell_type": "markdown",
   "metadata": {},
   "source": [
    "### Average metrics"
   ]
  },
  {
   "cell_type": "code",
   "execution_count": null,
   "metadata": {},
   "outputs": [],
   "source": [
    "table_header = r\"\"\"\n",
    "\\begin{tabular}{@{}lllccccccc@{}}\n",
    "    \\toprule\n",
    "    \\multicolumn{1}{c}{\\multirow{2}{*}{\\textbf{Model}}} & \\multicolumn{1}{c}{\\multirow{2}{*}{decoupled?}} & \\multicolumn{1}{c}{} & \\multicolumn{6}{c}{Averaged $\\ \\forall |\\mathcal{P}|$} \\\\  \\cmidrule(l){4-9} \n",
    "    \\multicolumn{1}{c}{} & \\multicolumn{1}{c}{}\n",
    "    & & $\\textsc{F}_{\\textsc{CD} - \\textsc{Rec}}$\n",
    "    & $\\textsc{A}_{\\textsc{CD} - \\textsc{Rec}}$\n",
    "    & $\\textsc{F}_{\\textsc{CD} - \\textsc{Real}}$\n",
    "    & $\\textsc{A}_{\\textsc{CD} - \\textsc{Real}}$\n",
    "    & $\\textsc{F}_{\\mathcal{L}_2}$ & $\\textsc{A}_{\\mathcal{L}_2}$ \\\\ \\midrule\n",
    "\"\"\"\n",
    "table_entry = \"    & & %s & %s & %s & %s & %s & %s\"\n",
    "table_footer = r\"\"\"\\bottomrule\n",
    "\\end{tabular}%\"\"\""
   ]
  },
  {
   "cell_type": "code",
   "execution_count": null,
   "metadata": {},
   "outputs": [],
   "source": [
    "mean_results_np = np.array([np.array(list(mean_results[model_name].values())) for model_name in mean_results.keys()])\n",
    "# Mark the maximum column-wise\n",
    "model_rows = {}\n",
    "for k, (model_name, results) in enumerate(mean_results.items()):\n",
    "    results = np.array(list(results.values()))\n",
    "    results_txt = [\"\\\\textbf{%.3f}\" % j if j == np.min(mean_results_np[:, i]) else \"%.3f\" % j for i, j in enumerate(results)]\n",
    "    model_rows[model_name] = (table_entry) % tuple(results_txt)"
   ]
  },
  {
   "cell_type": "code",
   "execution_count": null,
   "metadata": {},
   "outputs": [],
   "source": [
    "# Generate LaTeX table\n",
    "output_table = \"\"\n",
    "output_table += table_header\n",
    "output_table += \"\\n\"\n",
    "line_seps = [4]\n",
    "for k, model_map in enumerate(MODEL_MAP_IMNET):\n",
    "    if model_map[\"model_name\"] not in model_rows:\n",
    "        continue\n",
    "    model_name = model_map[\"model_name\"]\n",
    "    output_table += \"$\" + model_map[\"method_code\"] + \"$\\n\"\n",
    "    output_table += table_is_decoupled % (\"icoyes\" if model_map[\"is_decoupled\"] else \"icono\")\n",
    "    output_table += model_rows[model_name]\n",
    "    output_table += \"\\\\\\\\\"\n",
    "    output_table += \"\\n\"\n",
    "    if k in line_seps:\n",
    "        output_table += table_sep\n",
    "        output_table += \"\\n\"\n",
    "    output_table += \"\\n\"\n",
    "output_table += table_footer"
   ]
  },
  {
   "cell_type": "code",
   "execution_count": null,
   "metadata": {},
   "outputs": [],
   "source": [
    "display_latex(output_table, crop_zone=(500, 200, 1735, 900), hspace=0)"
   ]
  },
  {
   "cell_type": "code",
   "execution_count": null,
   "metadata": {},
   "outputs": [],
   "source": [
    "# Write to LaTeX file\n",
    "with open(\"eval/__latex__/imnet_eval__averaged.tex\", \"w\") as f:\n",
    "    f.write(output_table)"
   ]
  }
 ],
 "metadata": {
  "kernelspec": {
   "display_name": "shape2vecset",
   "language": "python",
   "name": "shape2vecset"
  },
  "language_info": {
   "codemirror_mode": {
    "name": "ipython",
    "version": 3
   },
   "file_extension": ".py",
   "mimetype": "text/x-python",
   "name": "python",
   "nbconvert_exporter": "python",
   "pygments_lexer": "ipython3",
   "version": "3.10.12"
  }
 },
 "nbformat": 4,
 "nbformat_minor": 4
}
