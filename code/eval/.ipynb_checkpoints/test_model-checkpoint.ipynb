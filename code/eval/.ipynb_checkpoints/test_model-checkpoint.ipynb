{
 "cells": [
  {
   "cell_type": "code",
   "execution_count": 12,
   "metadata": {},
   "outputs": [
    {
     "data": {
      "text/plain": [
       "<All keys matched successfully>"
      ]
     },
     "execution_count": 12,
     "metadata": {},
     "output_type": "execute_result"
    }
   ],
   "source": [
    "# %cd ..\n",
    "import torch\n",
    "from models.dgcnn import DGCNN\n",
    "\n",
    "\n",
    "# Create dummy config\n",
    "class DGCNNConfig:\n",
    "    def __init__(self):\n",
    "        self.k = 20\n",
    "        self.emb_dims = 1024\n",
    "        self.dropout = 0.5\n",
    "        self.classes = 40\n",
    "        self.channels = 3\n",
    "        self.nrof_points = 1024\n",
    "\n",
    "config = DGCNNConfig()\n",
    "model = DGCNN(config)\n",
    "\n",
    "# Load from pretrained/dgcnn_ckpt.ckpt\n",
    "model.load_state_dict(torch.load('../ckpt/dgcnn/dgcnn.ckpt'))\n",
    "\n",
    "# Remove"
   ]
  },
  {
   "cell_type": "code",
   "execution_count": 13,
   "metadata": {},
   "outputs": [
    {
     "data": {
      "text/plain": [
       "torch.Size([1, 256])"
      ]
     },
     "execution_count": 13,
     "metadata": {},
     "output_type": "execute_result"
    }
   ],
   "source": [
    "model = model.eval().cuda()\n",
    "model.forward_features(torch.rand(1, 3, 1024).cuda()).shape"
   ]
  },
  {
   "cell_type": "code",
   "execution_count": null,
   "metadata": {},
   "outputs": [],
   "source": []
  }
 ],
 "metadata": {
  "kernelspec": {
   "display_name": "Python 3 (ipykernel)",
   "language": "python",
   "name": "python3"
  },
  "language_info": {
   "codemirror_mode": {
    "name": "ipython",
    "version": 3
   },
   "file_extension": ".py",
   "mimetype": "text/x-python",
   "name": "python",
   "nbconvert_exporter": "python",
   "pygments_lexer": "ipython3",
   "version": "3.10.12"
  }
 },
 "nbformat": 4,
 "nbformat_minor": 4
}
